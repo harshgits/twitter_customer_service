{
 "cells": [
  {
   "cell_type": "code",
   "execution_count": null,
   "metadata": {},
   "outputs": [],
   "source": [
    "# put sentiments as a column in the tweets table\n",
    "\n",
    "import pandas as pd\n",
    "\n",
    "tweets_df = pd.read_csv(\"data/twcs_clean.csv\")"
   ]
  },
  {
   "cell_type": "code",
   "execution_count": null,
   "metadata": {},
   "outputs": [],
   "source": [
    "import numpy as np\n",
    "from dill import load as dillload\n",
    "from glob import glob\n",
    "\n",
    "# we'll read the sentiments into twcs_clean\n",
    "# we begin by creating a np.array \"sentis\" of\n",
    "# nans having length same as twcs_clean\n",
    "sentis = np.full(shape = (len(tweets_df),), \n",
    "                 fill_value = np.nan)\n",
    "\n",
    "## read in the sentiment dill files\n",
    "sdill_paths = glob(\"data/sentis/*.list.dill\")\n",
    "\n",
    "# keep count of how many you're reading\n",
    "n_sentis_read_total = 0\n",
    "    \n",
    "for sdill_path in sdill_paths[:]:\n",
    "    \n",
    "    # figure out start iloc\n",
    "    pre_str = \"_sentis_\"\n",
    "    post_str = \"_to_\"\n",
    "    start_iloc = int(sdill_path[\n",
    "        sdill_path.index(pre_str) + len(pre_str) :\n",
    "        sdill_path.index(post_str)\n",
    "        ])\n",
    "    \n",
    "    # figure out end iloc\n",
    "    pre_str = \"_to_\"\n",
    "    post_str = \".list\"\n",
    "    end_iloc = int(sdill_path[\n",
    "        sdill_path.index(pre_str) + len(pre_str) :\n",
    "        sdill_path.index(post_str)\n",
    "        ])\n",
    "    \n",
    "    n_sentis_expected = end_iloc - start_iloc + 1\n",
    "    \n",
    "    sentilist = []\n",
    "    with open(sdill_path, \"rb\") as f:\n",
    "        sentilist = dillload(f)\n",
    "    \n",
    "    # check length for integrity\n",
    "    n_sentis = len(sentilist)\n",
    "    n_sentis_read_total += n_sentis\n",
    "    if n_sentis != n_sentis_expected:\n",
    "        print(\"   MISMATCH on \" + sdill_path + \":\")\n",
    "        print(\"      n_sentis_expected\", n_sentis_expected)\n",
    "        print(\"      n_sentis\", len(sentilist))\n",
    "        \n",
    "    else:\n",
    "        sentis[start_iloc : end_iloc + 1] = sentilist\n",
    "        \n",
    "# integrity check\n",
    "n_sentis_saved = np.sum(np.isfinite(sentis))\n",
    "if n_sentis_read_total != n_sentis_saved:\n",
    "    print(\"   MISMATCH on n_sentis:\")\n",
    "    print(\"      n_sentis_read_total\", n_sentis_read_total)\n",
    "    print(\"      n_sentis_saved\", n_sentis_saved)\n",
    "        \n",
    "else:\n",
    "    tweets_df[\"sentiment\"] = sentis\n",
    "    \n",
    "tweets_df[[\"text\", \"sentiment\"]].head()"
   ]
  },
  {
   "cell_type": "code",
   "execution_count": null,
   "metadata": {},
   "outputs": [],
   "source": [
    "# SLOW! save new tweets_df\n",
    "\n",
    "tweets_df.to_csv(\"data/tweets_w_senti.csv\", index = False)"
   ]
  },
  {
   "cell_type": "code",
   "execution_count": null,
   "metadata": {},
   "outputs": [],
   "source": []
  }
 ],
 "metadata": {
  "kernelspec": {
   "display_name": "Python 3",
   "language": "python",
   "name": "python3"
  },
  "language_info": {
   "codemirror_mode": {
    "name": "ipython",
    "version": 3
   },
   "file_extension": ".py",
   "mimetype": "text/x-python",
   "name": "python",
   "nbconvert_exporter": "python",
   "pygments_lexer": "ipython3",
   "version": "3.7.0"
  }
 },
 "nbformat": 4,
 "nbformat_minor": 2
}
